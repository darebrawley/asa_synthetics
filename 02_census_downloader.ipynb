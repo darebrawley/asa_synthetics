{
 "cells": [
  {
   "cell_type": "markdown",
   "metadata": {},
   "source": [
    "### downloading census data for comparison with synth pop outputs"
   ]
  },
  {
   "cell_type": "code",
   "execution_count": 1,
   "metadata": {},
   "outputs": [],
   "source": [
    "%load_ext autoreload\n",
    "%autoreload 2\n",
    "from synthpop.census_helpers import Census\n",
    "from synthpop import categorizer as cat\n",
    "import pandas as pd\n",
    "import numpy as np\n",
    "import os\n",
    "pd.set_option('display.max_columns', 500)"
   ]
  },
  {
   "cell_type": "markdown",
   "metadata": {},
   "source": [
    "This notebook is being used to process ACS data obtained from the ACS API. \n",
    "\n",
    "First some notes about the structure of how synthpop works. \n",
    "It has a few dependencies: \n",
    "- **census**, a python library that is a wrapper for the U.S. Census Bureau API\n",
    "- **pandas** a python library used to create and work with dataframes (like tables)\n",
    "- **numpy**\n",
    "- **os** which allows you to set up a development environment (not actually entirely necessary)\n",
    "\n"
   ]
  },
  {
   "cell_type": "markdown",
   "metadata": {},
   "source": [
    "**Step 1:**  \n",
    "Set API key. (If you don't already have you can get one [here](https://api.census.gov/data/key_signup.html))"
   ]
  },
  {
   "cell_type": "code",
   "execution_count": 2,
   "metadata": {},
   "outputs": [],
   "source": [
    "# Dare's Census API key\n",
    "c = Census(\"d95e144b39e17f929287714b0b8ba9768cecdc9f\")"
   ]
  },
  {
   "cell_type": "markdown",
   "metadata": {},
   "source": [
    "**Step 2:**  \n",
    "Set up state and county variables to use for the state/county you are working with"
   ]
  },
  {
   "cell_type": "code",
   "execution_count": 3,
   "metadata": {},
   "outputs": [],
   "source": [
    "# set state to North Carolina\n",
    "stateFips = \"37\"\n",
    "# set county to Mecklenburg\n",
    "countyFips = \"119\""
   ]
  },
  {
   "cell_type": "markdown",
   "metadata": {},
   "source": [
    "**Step 3:**  \n",
    "Define household variables of interest"
   ]
  },
  {
   "cell_type": "code",
   "execution_count": 4,
   "metadata": {},
   "outputs": [],
   "source": [
    "income_columns = ['B19001_0%02dE'%i for i in range(1, 18)]\n",
    "income_columns_moe = ['B19001_0%02dM'%i for i in range(1, 18)]\n",
    "vehicle_columns = ['B08201_0%02dE'%i for i in range(1, 7)]\n",
    "vehicle_columns_moe = ['B08201_0%02dM'%i for i in range(1, 7)]\n",
    "\n",
    "workers_columns = ['B08202_0%02dE'%i for i in range(1, 6)]\n",
    "families_columns = ['B11001_001E', 'B11001_002E']\n",
    "families_columns_moe = ['B11001_001M', 'B11001_002M']\n",
    "# traveltimesex_columns = ['B08013_001E','B08013_002E','B08013_003E']\n",
    "census_col = families_columns + families_columns_moe+income_columns + income_columns_moe + vehicle_columns + vehicle_columns_moe\n",
    "h_acs = c.tract_query(census_col, stateFips, countyFips)\n"
   ]
  },
  {
   "cell_type": "code",
   "execution_count": null,
   "metadata": {},
   "outputs": [],
   "source": []
  },
  {
   "cell_type": "code",
   "execution_count": null,
   "metadata": {},
   "outputs": [],
   "source": [
    "##Note: it is also possible to do this at the block and tract level. See example below. \n",
    "## We are not using this\n",
    "income_columns = ['B19001_0%02dE'%i for i in range(1, 18)]\n",
    "vehicle_columns = ['B08201_0%02dE'%i for i in range(1, 7)]\n",
    "workers_columns = ['B08202_0%02dE'%i for i in range(1, 6)]\n",
    "families_columns = ['B11001_001E', 'B11001_002E']\n",
    "# traveltimesex_columns = ['B08013_001E','B08013_002E','B08013_003E']\n",
    "block_group_columns = income_columns + families_columns\n",
    "tract_columns = vehicle_columns + workers_columns \n",
    "# + traveltimesex_columns\n",
    "#function for getting block and tract level data. merges to the block level\n",
    "h_acs_block = c.block_group_and_tract_query(block_group_columns,\n",
    "                tract_columns, stateFips, countyFips, \n",
    "                merge_columns=['tract', 'county', 'state'],\n",
    "                block_group_size_attr=\"B11001_001E\",\n",
    "                tract_size_attr=\"B08201_001E\")"
   ]
  },
  {
   "cell_type": "markdown",
   "metadata": {},
   "source": [
    "**Step 4:**  \n",
    "Define person-level variables of interest"
   ]
  },
  {
   "cell_type": "code",
   "execution_count": 5,
   "metadata": {},
   "outputs": [],
   "source": [
    "population = ['B01001_001E']\n",
    "# margin of error = _moe in all columns\n",
    "population_moe = ['B01001_001M']\n",
    "sex = ['B01001_002E', 'B01001_026E']\n",
    "sex_moe = ['B01001_002M', 'B01001_026M']\n",
    "race = ['B02001_0%02dE'%i for i in range(1,11)]\n",
    "race_moe = ['B02001_0%02dM'%i for i in range(1,11)]                                     \n",
    "male_age_columns = ['B01001_0%02dE'%i for i in range(3,26)]\n",
    "male_age_columns_moe = ['B01001_0%02dM'%i for i in range(3,26)]\n",
    "female_age_columns = ['B01001_0%02dE'%i for i in range(27,50)]\n",
    "female_age_columns_moe = ['B01001_0%02dM'%i for i in range(27,50)]\n",
    "hispanic = ['B03003_002E', 'B03003_003E']\n",
    "hispanic_moe = ['B03003_002M', 'B03003_003M']\n",
    "\n",
    "                                             \n",
    "all_columns = population + sex + race + male_age_columns + hispanic+ hispanic_moe+ female_age_columns+population_moe+sex_moe+race_moe+male_age_columns_moe+female_age_columns_moe\n",
    "p_acs_tract = c.tract_query(all_columns, stateFips, countyFips)\n"
   ]
  },
  {
   "cell_type": "markdown",
   "metadata": {},
   "source": [
    "**Step 5:**  \n",
    "Categorize the ACS household data into categories we can read\n",
    "\n",
    "This step includes calculating aggregate errors for the ACS variables we are using. \n",
    "\n",
    "This was calculated using : SE1 + SE2 + ...+ SEN\n",
    "\n",
    "Where SE = Standard Error = Margin of Error / Z\n",
    "And Z is defined by ACS as 1.645\n",
    "\n",
    "See [this](https://www2.census.gov/programs-surveys/acs/tech_docs/statistical_testing/2015StatisticalTesting5year.pdf) guide from ACS for further info. \n",
    "    \n",
    "Further [info](https://www.census.gov/content/dam/Census/programs-surveys/acs/guidance/training-presentations/20170419_MOE_Transcript.pdf) on ACS margins of error. "
   ]
  },
  {
   "cell_type": "code",
   "execution_count": 6,
   "metadata": {},
   "outputs": [],
   "source": [
    "h_acs_cat = cat.categorize(h_acs, {\n",
    "    (\"households\", \"total\"): \"B11001_001E\",\n",
    "    (\"households\", \"total_me\"): \"B11001_001M\",\n",
    "    (\"income\", \"lt30\"): \"B19001_002E + B19001_003E + B19001_004E + \"\n",
    "                        \"B19001_005E + B19001_006E\",\n",
    "    (\"income\", \"gt30-lt60\"): \"B19001_007E +B19001_008E +B19001_009E +B19001_010E\"\n",
    "                        \"+B19001_011E\",\n",
    "    (\"income\",\"gt60-lt100\"): \"B19001_012E + B19001_013E\",\n",
    "    (\"income\",\"gt100-lt150\"):\"B19001_014E +  B19001_015E\",\n",
    "    (\"income\",\"gt150\"):\"B19001_016E +B19001_017E\",\n",
    "    \n",
    "    (\"income\", \"lt30_me\"): \"(B19001_002M + B19001_003M + B19001_004M + \"\n",
    "                        \"B19001_005M + B19001_006M)\",\n",
    "    (\"income\", \"gt30-lt6_me\"): \"(B19001_007M +B19001_008M +B19001_009M +B19001_010M\"\n",
    "                        \"+B19001_011M)\",\n",
    "    (\"income\",\"gt60-lt100_me\"): \"(B19001_012M + B19001_013M)\",\n",
    "    (\"income\",\"gt100-lt150_me\"):\"(B19001_014M +  B19001_015M)\",\n",
    "    (\"income\",\"gt150_me\"):\"(B19001_016M +B19001_017M)\",\n",
    "    (\"cars\", \"none\"): \"B08201_002E\",\n",
    "    (\"cars\", \"none_me\"): \"B08201_002M\",\n",
    "    (\"cars\", \"one\"): \"B08201_003E\",\n",
    "    (\"cars\", \"one_me\"): \"B08201_003M\",\n",
    "    (\"cars\", \"two or more\"): \"B08201_004E + B08201_005E + B08201_006E\",\n",
    "    (\"cars\", \"two or more_me\"): \"(B08201_004M + B08201_005M + B08201_006M)/1.645\",\n",
    "#     (\"workers\", \"none\"): \"B08202_002E\",\n",
    "#     (\"workers\", \"one\"): \"B08202_003E\",\n",
    "#     (\"workers\", \"two or more\"): \"B08202_004E + B08202_005E\",\n",
    "#     (\"traveltime\",\"total\"):\"B08013_001E\",\n",
    "#     (\"traveltime\",\"male\"):\"B08013_002E\",\n",
    "#     (\"traveltime\",\"female\"):\"B08013_003E\"\n",
    "}, index_cols=['tract'])\n",
    "\n",
    "h_acs_cat.columns = h_acs_cat.columns.droplevel()"
   ]
  },
  {
   "cell_type": "code",
   "execution_count": null,
   "metadata": {},
   "outputs": [],
   "source": [
    "h_acs_cat.head()"
   ]
  },
  {
   "cell_type": "markdown",
   "metadata": {},
   "source": [
    "**Step 8:**  \n",
    "Categorize the ACS person data into categories we can read\n",
    "\n",
    "\n",
    "This step includes calculating aggregate errors for the ACS variables we are using. \n",
    "\n",
    "This was calculated using : SE1 + SE2 + ...+ SEN\n",
    "\n",
    "Where SE = Standard Error = Margin of Error / Z\n",
    "And Z is defined by ACS as 1.645\n",
    "\n",
    "See [this](https://www2.census.gov/programs-surveys/acs/tech_docs/statistical_testing/2015StatisticalTesting5year.pdf) guide from ACS for further info. "
   ]
  },
  {
   "cell_type": "code",
   "execution_count": 7,
   "metadata": {},
   "outputs": [],
   "source": [
    "p_acs_cat = cat.categorize(p_acs_tract, {\n",
    "    (\"population\", \"total\"): \"B01001_001E\",\n",
    "    (\"population\", \"total_me\"): \"B01001_001M\",\n",
    "    (\"age\", \"19 and under\"): \"B01001_003E + B01001_004E + B01001_005E + \"\n",
    "                             \"B01001_006E + B01001_007E + B01001_027E + \"\n",
    "                             \"B01001_028E + B01001_029E + B01001_030E + \"\n",
    "                             \"B01001_031E\",\n",
    "    (\"age\", \"19 and under_me\"): \"(B01001_003M + B01001_004M + B01001_005M + \"\n",
    "                             \"B01001_006M + B01001_007M + B01001_027M + \"\n",
    "                             \"B01001_028M + B01001_029M + B01001_030M + \"\n",
    "                             \"B01001_031M)\",\n",
    "    (\"age\", \"20 to 35\"): \"B01001_008E + B01001_009E + B01001_010E + \"\n",
    "                         \"B01001_011E + B01001_012E + B01001_032E + \"\n",
    "                         \"B01001_033E + B01001_034E + B01001_035E + \"\n",
    "                         \"B01001_036E\",\n",
    "    (\"age\", \"20 to 35_me\"): \"(B01001_008M + B01001_009M + B01001_010M + \"\n",
    "                         \"B01001_011M + B01001_012M + B01001_032M + \"\n",
    "                         \"B01001_033M + B01001_034M + B01001_035M + \"\n",
    "                         \"B01001_036M)\",\n",
    "    (\"age\", \"35 to 60\"): \"B01001_013E + B01001_014E + B01001_015E + \"\n",
    "                         \"B01001_016E + B01001_017E + B01001_037E + \"\n",
    "                         \"B01001_038E + B01001_039E + B01001_040E + \"\n",
    "                         \"B01001_041E\",\n",
    "    (\"age\", \"35 to 60_me\"): \"(B01001_013M + B01001_014M + B01001_015M + \"\n",
    "                         \"B01001_016M + B01001_017M + B01001_037M + \"\n",
    "                         \"B01001_038M + B01001_039M + B01001_040M + \"\n",
    "                         \"B01001_041M)\",\n",
    "    (\"age\", \"above 60\"): \"B01001_018E + B01001_019E + B01001_020E + \"\n",
    "                         \"B01001_021E + B01001_022E + B01001_023E + \"\n",
    "                         \"B01001_024E + B01001_025E + B01001_042E + \"\n",
    "                         \"B01001_043E + B01001_044E + B01001_045E + \"\n",
    "                         \"B01001_046E + B01001_047E + B01001_048E + \"\n",
    "                         \"B01001_049E\", \n",
    "    (\"age\", \"above 60_me\"): \"(B01001_018M + B01001_019M + B01001_020M + \"\n",
    "                         \"B01001_021M + B01001_022M + B01001_023M + \"\n",
    "                         \"B01001_024M + B01001_025M + B01001_042M + \"\n",
    "                         \"B01001_043M + B01001_044M + B01001_045M + \"\n",
    "                         \"B01001_046M + B01001_047M + B01001_048M + \"\n",
    "                         \"B01001_049M)\", \n",
    "    (\"race\", \"white\"):   \"B02001_002E\",\n",
    "    (\"race\", \"white_me\"):   \"B02001_002M\",\n",
    "    (\"race\", \"black\"):   \"B02001_003E\",\n",
    "    (\"race\", \"black_me\"):   \"B02001_003M\",\n",
    "    (\"race\", \"asian\"):   \"B02001_005E\",\n",
    "    (\"race\", \"asian_me\"):   \"B02001_005M\",\n",
    "    (\"race\", \"other\"):   \"B02001_004E + B02001_006E + B02001_007E + \"\n",
    "                         \"B02001_008E\",\n",
    "    (\"race\", \"other_me\"):   \"(B02001_004M + B02001_006M + B02001_007M + \"\n",
    "                         \"B02001_008M)\",\n",
    "    (\"sex\", \"male\"):     \"B01001_002E\",\n",
    "    (\"sex\", \"male_me\"):     \"B01001_002M\",\n",
    "    (\"sex\", \"female\"):   \"B01001_026E\",\n",
    "    (\"sex\", \"female_me\"):   \"B01001_026M\",\n",
    "    (\"hispanic\", \"yes\"): \"B03003_003E\",\n",
    "    (\"hispanic\", \"yes_me\"): \"B03003_003M\",\n",
    "    (\"hispanic\", \"no\"): \"B03003_002E\",\n",
    "    (\"hispanic\", \"no_me\"): \"B03003_002M\",\n",
    "}, index_cols=['tract'])\n"
   ]
  },
  {
   "cell_type": "code",
   "execution_count": 8,
   "metadata": {},
   "outputs": [],
   "source": [
    "# dropping top level of column index\n",
    "p_acs_cat.columns = p_acs_cat.columns.droplevel()"
   ]
  },
  {
   "cell_type": "code",
   "execution_count": 9,
   "metadata": {},
   "outputs": [],
   "source": [
    "# renaming hispanic columns\n",
    "p_acs_cat= p_acs_cat.rename(columns={'no_me':'nonhispanic_me',\n",
    "                          'no':'nonhispanic','yes_me':'hispanic_me',\n",
    "                         'yes':'hispanic'})"
   ]
  },
  {
   "cell_type": "code",
   "execution_count": 10,
   "metadata": {},
   "outputs": [],
   "source": [
    "p_acs_cat.to_csv('data_outputs/20190330_census_aggregates/37119_people_meck.csv')\n",
    "h_acs_cat.to_csv('data_outputs/20190330_census_aggregates/37119_households_meck.csv')"
   ]
  },
  {
   "cell_type": "code",
   "execution_count": null,
   "metadata": {},
   "outputs": [],
   "source": []
  }
 ],
 "metadata": {
  "kernelspec": {
   "display_name": "Python 3",
   "language": "python",
   "name": "python3"
  },
  "language_info": {
   "codemirror_mode": {
    "name": "ipython",
    "version": 3
   },
   "file_extension": ".py",
   "mimetype": "text/x-python",
   "name": "python",
   "nbconvert_exporter": "python",
   "pygments_lexer": "ipython3",
   "version": "3.6.4"
  }
 },
 "nbformat": 4,
 "nbformat_minor": 2
}
